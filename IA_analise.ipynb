import pandas as pd
from sklearn.preprocessing import LabelEncoder
from sklearn.model_selection import train_test_split
from sklearn.ensemble import RandomForestClassifier
from sklearn.neighbors import KNeighborsClassifier
from sklearn.metrics import accuracy_score

# importando e analisando a base de dados

tabela = pd.read_csv('clientes.csv')
display(tabela)

# verificando se temos valores vazios ou valores reconhecidos em formato errado

print(tabela.info())
print(tabela.columns)

# para ensinar a IA devemos ransformar as colunas de texto em números, ex: profissoes vai sair de cientista para 0 e assim por diante, de forma aleatória

codificador = LabelEncoder()

# essa transformação não irá ser aplicada na coluna de score_credito, pois é a que queremos analisar
for coluna in tabela.columns:
    if tabela[coluna].dtype == 'object' and coluna != 'score_credito':
        tabela[coluna] = codificador.fit_transform(tabela[coluna])

# verificando se realmente todas as colunas foram modificadas

print(tabela.info())

# escolhendo quais colunas vamos usar para treinar o modelo
# x vai todas as colunas que vamos usar para prever o score de credito, não vamos usar a coluna id_cliente porque ela é um numero qualquer que nao ajuda a previsão

x=tabela.drop(['id_cliente', 'score_credito'], axis=1) 

# y é a coluna que queremos que o modelo calcule

y= tabela['score_credito']

# separamos os dados em treino e teste. Treino vamos dar para os modelos aprenderem e teste vamos usar para ver se o modelo aprendeu corretamente
x_treino, x_teste, y_treino, y_teste = train_test_split(x, y, test_size=.25, random_state=1)

#criando os modelos de IA, iremos utilizar 2 modelos para ver qual se sai melhor

Forest_IA = RandomForestClassifier() # -> modelo árvore de decisão
Neighbors_IA = KNeighborsClassifier() # -> modelo de vizinhos mais próximos

# treinando os modelos

Forest_IA.fit(x_treino, y_treino)
Neighbors_IA.fit(x_treino, y_treino)

# se o nosso modelo chutasse tudo "Standard", qual seria a acurácia do modelo?

contagem_scores = tabela['score_credito'].value_counts()
print(contagem_scores['Standard'] / sum(contagem_scores))

# calculamos as previsoes

previsao_Forest = Forest_IA.predict(x_teste)
previsao_Neighbors = Neighbors_IA.predict(x_teste.to_numpy())

# comparamos as previsoes com o y_teste
# esse score queremos o valor mais acurado, mas esse valor precisa ser maior do que o chute de tudo Standard

print(accuracy_score(y_teste, previsao_Forest))
print(accuracy_score(y_teste, previsao_Neighbors))

# após treinarmos as IAs e percebermos que o método de árvore foi mais efetivo, vamos utilizálo para fazer a previsão de novos clientes

tabela_novos = pd.read_csv('novos_clientes.csv')
display(tabela_novos)
print(tabela_novos.info())

codificador = LabelEncoder()

tabela_novos[coluna] = codificador.fit_transform(tabela_novos[coluna])
print(tabela_novos.info())

Forest_IA.predict(tabela_novos)

# quais as caracteristicas mais importantes para definir o score de credito?

colunas = list(x_teste.columns)
importancia = pd.DataFrame(index=colunas, data=Forest_IA.feature_importances_)
importancia=importancia * 100
print(importancia)

# com essa verificação final, podemos concluir que as colunas divida_total, mix_credito e juros_empréstimo são as que mais têm relevância para determinar o score de um cliente.
